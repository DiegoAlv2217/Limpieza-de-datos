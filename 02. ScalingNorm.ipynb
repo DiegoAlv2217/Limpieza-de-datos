{
  "cells": [
    {
      "cell_type": "markdown",
      "metadata": {},
      "source": [
        "# Escalamiento y Normalización de Datos\n",
        "\n",
        "En este JNB se revisará el tema de Escalamiento y Normalización de Datos."
      ]
    },
    {
      "cell_type": "code",
      "execution_count": null,
      "metadata": {
        "id": "O8NoTzxjs2wK",
        "outputId": "fa4bc249-a4fa-48a6-9dc6-7733646ed223"
      },
      "outputs": [
        {
          "name": "stdout",
          "output_type": "stream",
          "text": [
            "Hello World!\n"
          ]
        }
      ],
      "source": [
        "# modules we'll use\n",
        "import pandas as pd\n",
        "import numpy as np\n",
        "\n",
        "# for Box-Cox Transformation\n",
        "from scipy import stats\n",
        "\n",
        "# for min_max scaling\n",
        "from mlxtend.preprocessing import minmax_scaling\n",
        "\n",
        "# plotting modules\n",
        "import seaborn as sns\n",
        "import matplotlib.pyplot as plt\n",
        "\n",
        "# set seed for reproducibility\n",
        "np.random.seed(0)"
      ]
    },
    {
      "cell_type": "code",
      "execution_count": null,
      "metadata": {},
      "outputs": [],
      "source": [
        "# generate 1000 data points randomly drawn from an exponential distribution\n",
        "original_data = np.random.exponential(size=1000)\n",
        "\n",
        "# mix-max scale the data between 0 and 1\n",
        "scaled_data = minmax_scaling(original_data, columns=[0])\n",
        "\n",
        "# plot both together to compare\n",
        "fig, ax = plt.subplots(1, 2, figsize=(15, 3))\n",
        "sns.histplot(original_data, ax=ax[0], kde=True, legend=False)\n",
        "ax[0].set_title(\"Original Data\")\n",
        "sns.histplot(scaled_data, ax=ax[1], kde=True, legend=False)\n",
        "ax[1].set_title(\"Scaled data\")\n",
        "plt.show()"
      ]
    },
    {
      "cell_type": "code",
      "execution_count": null,
      "metadata": {},
      "outputs": [],
      "source": [
        "# normalize the exponential data with boxcox\n",
        "normalized_data = stats.boxcox(original_data)\n",
        "\n",
        "# plot both together to compare\n",
        "fig, ax=plt.subplots(1, 2, figsize=(15, 3))\n",
        "sns.histplot(original_data, ax=ax[0], kde=True, legend=False)\n",
        "ax[0].set_title(\"Original Data\")\n",
        "sns.histplot(normalized_data[0], ax=ax[1], kde=True, legend=False)\n",
        "ax[1].set_title(\"Normalized data\")\n",
        "plt.show()"
      ]
    },
    {
      "cell_type": "markdown",
      "metadata": {},
      "source": [
        "EJERCICIOS KAGGLE\n"
      ]
    },
    {
      "cell_type": "code",
      "execution_count": null,
      "metadata": {},
      "outputs": [],
      "source": [
        "# modules we'll use\n",
        "import pandas as pd\n",
        "import numpy as np\n",
        "\n",
        "# for Box-Cox Transformation\n",
        "from scipy import stats\n",
        "\n",
        "# for min_max scaling\n",
        "from mlxtend.preprocessing import minmax_scaling\n",
        "\n",
        "# plotting modules\n",
        "import seaborn as sns\n",
        "import matplotlib.pyplot as plt\n",
        "\n",
        "# read in all our data\n",
        "kickstarters_2017 = pd.read_csv(\"../input/kickstarter-projects/ks-projects-201801.csv\")\n",
        "\n",
        "# set seed for reproducibility\n",
        "np.random.seed(0)"
      ]
    },
    {
      "cell_type": "code",
      "execution_count": null,
      "metadata": {},
      "outputs": [],
      "source": [
        "# select the usd_goal_real column\n",
        "original_data = pd.DataFrame(kickstarters_2017.usd_goal_real)\n",
        "\n",
        "# scale the goals from 0 to 1\n",
        "scaled_data = minmax_scaling(original_data, columns=['usd_goal_real'])\n",
        "\n",
        "print('Original data\\nPreview:\\n', original_data.head())\n",
        "print('Minimum value:', float(original_data.min()),\n",
        "      '\\nMaximum value:', float(original_data.max()))\n",
        "print('_'*30)\n",
        "\n",
        "print('\\nScaled data\\nPreview:\\n', scaled_data.head())\n",
        "print('Minimum value:', float(scaled_data.min()),\n",
        "      '\\nMaximum value:', float(scaled_data.max()))"
      ]
    },
    {
      "cell_type": "markdown",
      "metadata": {},
      "source": [
        "1) Practice scaling\n",
        "We just scaled the \"usd_goal_real\" column. What about the \"goal\" column?\n",
        "\n",
        "Begin by running the code cell below to create a DataFrame original_goal_data containing the \"goal\" column."
      ]
    },
    {
      "cell_type": "code",
      "execution_count": null,
      "metadata": {},
      "outputs": [],
      "source": [
        "# select the usd_goal_real column\n",
        "original_goal_data = pd.DataFrame(kickstarters_2017.goal)"
      ]
    },
    {
      "cell_type": "markdown",
      "metadata": {},
      "source": [
        "Use original_goal_data to create a new DataFrame scaled_goal_data with values scaled between 0 and 1. You must use the minmax_scaling() function."
      ]
    },
    {
      "cell_type": "code",
      "execution_count": null,
      "metadata": {},
      "outputs": [],
      "source": [
        "# TODO: Your code here\n",
        "scaled_goal_data = minmax_scaling(original_goal_data, columns=['goal'])"
      ]
    },
    {
      "cell_type": "markdown",
      "metadata": {},
      "source": [
        "2) Practice normalization\n",
        "Now you'll practice normalization. We begin by normalizing the amount of money pledged to each campaign."
      ]
    },
    {
      "cell_type": "code",
      "execution_count": null,
      "metadata": {},
      "outputs": [],
      "source": [
        "# get the index of all positive pledges (Box-Cox only takes positive values)\n",
        "index_of_positive_pledges = kickstarters_2017.usd_pledged_real > 0\n",
        "\n",
        "# get only positive pledges (using their indexes)\n",
        "positive_pledges = kickstarters_2017.usd_pledged_real.loc[index_of_positive_pledges]\n",
        "\n",
        "# normalize the pledges (w/ Box-Cox)\n",
        "normalized_pledges = pd.Series(stats.boxcox(positive_pledges)[0], \n",
        "                               name='usd_pledged_real', index=positive_pledges.index)\n",
        "\n",
        "print('Original data\\nPreview:\\n', positive_pledges.head())\n",
        "print('Minimum value:', float(positive_pledges.min()),\n",
        "      '\\nMaximum value:', float(positive_pledges.max()))\n",
        "print('_'*30)\n",
        "\n",
        "print('\\nNormalized data\\nPreview:\\n', normalized_pledges.head())\n",
        "print('Minimum value:', float(normalized_pledges.min()),\n",
        "      '\\nMaximum value:', float(normalized_pledges.max()))"
      ]
    },
    {
      "cell_type": "code",
      "execution_count": null,
      "metadata": {},
      "outputs": [],
      "source": [
        "# plot normalized data\n",
        "ax = sns.histplot(normalized_pledges, kde=True)\n",
        "ax.set_title(\"Normalized data\")\n",
        "plt.show()"
      ]
    },
    {
      "cell_type": "code",
      "execution_count": null,
      "metadata": {},
      "outputs": [],
      "source": [
        "# TODO: Your code here!\n",
        "# get the index of all positive pledges (Box-Cox only takes positive values)\n",
        "index_positive_pledges = kickstarters_2017.pledged > 0\n",
        "\n",
        "# get only positive pledges (using their indexes)\n",
        "positive_pledges_only = kickstarters_2017.pledged.loc[index_positive_pledges]\n",
        "\n",
        "# normalize the pledges (w/ Box-Cox)\n",
        "normalized_values = pd.Series(stats.boxcox(positive_pledges_only)[0], \n",
        "                              name='pledged', index=positive_pledges_only.index)\n",
        "\n",
        "# plot normalized data\n",
        "ax = sns.histplot(normalized_values, kde=True)\n",
        "ax.set_title(\"Normalized data\")"
      ]
    }
  ],
  "metadata": {
    "colab": {
      "include_colab_link": true,
      "provenance": []
    },
    "kernelspec": {
      "display_name": "Python 3.10.7 64-bit",
      "language": "python",
      "name": "python3"
    },
    "language_info": {
      "codemirror_mode": {
        "name": "ipython",
        "version": 3
      },
      "file_extension": ".py",
      "mimetype": "text/x-python",
      "name": "python",
      "nbconvert_exporter": "python",
      "pygments_lexer": "ipython3",
      "version": "3.10.7"
    },
    "orig_nbformat": 4,
    "vscode": {
      "interpreter": {
        "hash": "eb4a0ac80907d7f44e1a5e88d3d3381b33e3dbedd3a24d113e876f30a0c46bee"
      }
    }
  },
  "nbformat": 4,
  "nbformat_minor": 0
}
